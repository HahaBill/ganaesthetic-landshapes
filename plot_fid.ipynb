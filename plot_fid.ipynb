{
 "cells": [
  {
   "cell_type": "code",
   "execution_count": 1,
   "metadata": {},
   "outputs": [],
   "source": [
    "import numpy as np\n",
    "import matplotlib.pyplot as plt"
   ]
  },
  {
   "cell_type": "code",
   "execution_count": 2,
   "metadata": {},
   "outputs": [],
   "source": [
    "def draw_result(lst_iter, lst_loss, lst_acc, title):\n",
    "    plt.plot(lst_iter, lst_loss, '-b', label='loss')\n",
    "    plt.plot(lst_iter, lst_acc, '-r', label='accuracy')\n",
    "\n",
    "    plt.xlabel(\"n iteration\")\n",
    "    plt.legend(loc='upper left')\n",
    "    plt.title(title)\n",
    "\n",
    "    # save image\n",
    "    plt.savefig(title+\".png\")  # should before show method\n",
    "\n",
    "    # show\n",
    "    plt.show()"
   ]
  },
  {
   "cell_type": "code",
   "execution_count": 3,
   "metadata": {},
   "outputs": [],
   "source": [
    "def test_draw():\n",
    "    # iteration num\n",
    "    lst_iter = range(100)\n",
    "\n",
    "    # loss of iteration\n",
    "    lst_loss = [253.25, 43.2, 23.56, 15.23, 14.567, 13.25, 12.33, 11.5706,]\n",
    "    # lst_loss = np.random.randn(1, 100).reshape((100, ))\n",
    "\n",
    "    # accuracy of iteration\n",
    "    lst_acc = [1,2,3,4,5,6,7,8,9]\n",
    "    # lst_acc = np.random.randn(1, 100).reshape((100, ))\n",
    "    draw_result(lst_iter, lst_loss, lst_acc, \"sgd_method\")"
   ]
  },
  {
   "cell_type": "code",
   "execution_count": 4,
   "metadata": {},
   "outputs": [
    {
     "ename": "NameError",
     "evalue": "name 'xrange' is not defined",
     "output_type": "error",
     "traceback": [
      "\u001b[0;31m---------------------------------------------------------------------------\u001b[0m",
      "\u001b[0;31mNameError\u001b[0m                                 Traceback (most recent call last)",
      "\u001b[1;32m/Users/billtonhoang/Documents/landshapes-editor/plot_fid.ipynb Cell 4'\u001b[0m in \u001b[0;36m<cell line: 1>\u001b[0;34m()\u001b[0m\n\u001b[1;32m      <a href='vscode-notebook-cell:/Users/billtonhoang/Documents/landshapes-editor/plot_fid.ipynb#ch0000003?line=0'>1</a>\u001b[0m \u001b[39mif\u001b[39;00m \u001b[39m__name__\u001b[39m \u001b[39m==\u001b[39m \u001b[39m'\u001b[39m\u001b[39m__main__\u001b[39m\u001b[39m'\u001b[39m:\n\u001b[0;32m----> <a href='vscode-notebook-cell:/Users/billtonhoang/Documents/landshapes-editor/plot_fid.ipynb#ch0000003?line=1'>2</a>\u001b[0m     test_draw()\n",
      "\u001b[1;32m/Users/billtonhoang/Documents/landshapes-editor/plot_fid.ipynb Cell 3'\u001b[0m in \u001b[0;36mtest_draw\u001b[0;34m()\u001b[0m\n\u001b[1;32m      <a href='vscode-notebook-cell:/Users/billtonhoang/Documents/landshapes-editor/plot_fid.ipynb#ch0000002?line=2'>3</a>\u001b[0m lst_iter \u001b[39m=\u001b[39m \u001b[39mrange\u001b[39m(\u001b[39m100\u001b[39m)\n\u001b[1;32m      <a href='vscode-notebook-cell:/Users/billtonhoang/Documents/landshapes-editor/plot_fid.ipynb#ch0000002?line=4'>5</a>\u001b[0m \u001b[39m# loss of iteration\u001b[39;00m\n\u001b[0;32m----> <a href='vscode-notebook-cell:/Users/billtonhoang/Documents/landshapes-editor/plot_fid.ipynb#ch0000002?line=5'>6</a>\u001b[0m lst_loss \u001b[39m=\u001b[39m [\u001b[39m0.01\u001b[39m \u001b[39m*\u001b[39m i \u001b[39m+\u001b[39m \u001b[39m0.01\u001b[39m \u001b[39m*\u001b[39m i \u001b[39m*\u001b[39m\u001b[39m*\u001b[39m \u001b[39m2\u001b[39m \u001b[39mfor\u001b[39;00m i \u001b[39min\u001b[39;00m xrange(\u001b[39m100\u001b[39m)]\n\u001b[1;32m      <a href='vscode-notebook-cell:/Users/billtonhoang/Documents/landshapes-editor/plot_fid.ipynb#ch0000002?line=6'>7</a>\u001b[0m \u001b[39m# lst_loss = np.random.randn(1, 100).reshape((100, ))\u001b[39;00m\n\u001b[1;32m      <a href='vscode-notebook-cell:/Users/billtonhoang/Documents/landshapes-editor/plot_fid.ipynb#ch0000002?line=7'>8</a>\u001b[0m \n\u001b[1;32m      <a href='vscode-notebook-cell:/Users/billtonhoang/Documents/landshapes-editor/plot_fid.ipynb#ch0000002?line=8'>9</a>\u001b[0m \u001b[39m# accuracy of iteration\u001b[39;00m\n\u001b[1;32m     <a href='vscode-notebook-cell:/Users/billtonhoang/Documents/landshapes-editor/plot_fid.ipynb#ch0000002?line=9'>10</a>\u001b[0m lst_acc \u001b[39m=\u001b[39m [\u001b[39m0.01\u001b[39m \u001b[39m*\u001b[39m i \u001b[39m-\u001b[39m \u001b[39m0.01\u001b[39m \u001b[39m*\u001b[39m i \u001b[39m*\u001b[39m\u001b[39m*\u001b[39m \u001b[39m2\u001b[39m \u001b[39mfor\u001b[39;00m i \u001b[39min\u001b[39;00m xrange(\u001b[39m100\u001b[39m)]\n",
      "\u001b[0;31mNameError\u001b[0m: name 'xrange' is not defined"
     ]
    }
   ],
   "source": [
    "if __name__ == '__main__':\n",
    "    test_draw()"
   ]
  }
 ],
 "metadata": {
  "interpreter": {
   "hash": "82e705e6310c3628aecc742fd19016cc5c2fe440d544bc66ca2ab8c4be4c26b2"
  },
  "kernelspec": {
   "display_name": "Python 3.8.13",
   "language": "python",
   "name": "python3"
  },
  "language_info": {
   "codemirror_mode": {
    "name": "ipython",
    "version": 3
   },
   "file_extension": ".py",
   "mimetype": "text/x-python",
   "name": "python",
   "nbconvert_exporter": "python",
   "pygments_lexer": "ipython3",
   "version": "3.8.13"
  },
  "orig_nbformat": 4
 },
 "nbformat": 4,
 "nbformat_minor": 2
}
